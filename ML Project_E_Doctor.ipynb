{
 "cells": [
  {
   "cell_type": "markdown",
   "metadata": {},
   "source": [
    "# Mian Idea"
   ]
  },
  {
   "cell_type": "markdown",
   "metadata": {},
   "source": [
    "The main goal of this application is to build an AI-based doctor, E-Doctor, which provide mdeical warning and advice to prevent certain health condition. Base on the previous application, kaggle's heart disease detection, the best model is XGB model. Therefore, the E-Doctor will be trained with XGB model.\n",
    "\n",
    "E-doctor will be able to detect heart disease, high blood pressure, diabete, and blооd cholesterol."
   ]
  },
  {
   "cell_type": "code",
   "execution_count": 1,
   "metadata": {},
   "outputs": [],
   "source": [
    "import numpy as np\n",
    "import pandas as pd\n",
    "np.random.seed(42)\n",
    "from sklearn.pipeline import Pipeline\n",
    "from sklearn.linear_model import LinearRegression, Lasso, LogisticRegression\n",
    "from sklearn.metrics import confusion_matrix\n",
    "from sklearn.cluster import KMeans\n",
    "from sklearn.metrics import mean_squared_error, mean_absolute_error, accuracy_score,r2_score,f1_score, precision_score, recall_score\n",
    "from sklearn.metrics import silhouette_score, rand_score, davies_bouldin_score, r2_score,roc_auc_score\n",
    "from sklearn.preprocessing import StandardScaler,MinMaxScaler\n",
    "from sklearn.model_selection import train_test_split\n",
    "from sklearn.compose import ColumnTransformer\n",
    "from xgboost import XGBClassifier\n",
    "from xgboost import plot_importance\n",
    "from keras.models import Sequential, Model\n",
    "from keras.layers import Dense, Input\n",
    "from keras.wrappers.scikit_learn import KerasClassifier\n",
    "from sklearn.datasets import load_iris\n",
    "from sklearn.model_selection import  GridSearchCV\n",
    "import tensorflow as tf\n",
    "import logging\n",
    "tf.get_logger().setLevel(logging.ERROR)\n",
    "\n",
    "from sklearn.tree import DecisionTreeClassifier\n",
    "from sklearn.ensemble import RandomForestClassifier\n",
    "import time\n",
    "import matplotlib.pyplot as plt\n",
    "import random"
   ]
  },
  {
   "cell_type": "markdown",
   "metadata": {},
   "source": [
    "## A. Prepare Data"
   ]
  },
  {
   "cell_type": "markdown",
   "metadata": {},
   "source": [
    "### Read Data"
   ]
  },
  {
   "cell_type": "code",
   "execution_count": 2,
   "metadata": {},
   "outputs": [],
   "source": [
    "def read_data():\n",
    "    train_data = pd.read_csv('train.csv')\n",
    "    test_data = pd.read_csv('test.csv')\n",
    "    return train_data, test_data"
   ]
  },
  {
   "cell_type": "markdown",
   "metadata": {},
   "source": [
    "### Remove Failed and Null Data"
   ]
  },
  {
   "cell_type": "markdown",
   "metadata": {},
   "source": [
    "Column List: HighBP, HighChol, CholCheck, BMI, Smoker, Stroke, Diabetes, PhysActivity, Fruits, Veggies, HvyAlcoholConsump, AnyHealthcare, NoDocbcCost, GenHlth, MentHlth, PhysHlth, DiffWalk, Sex, Age, Education, Income, target\n",
    "\n",
    "--Feature list: CholCheck, BMI, Smoker, Stroke, PhysActivity, Fruits, Veggies, HvyAlcoholConsump, AnyHealthcare, NoDocbcCost, GenHlth, MentHlth, PhysHlth, DiffWalk, Sex, Age, Education, Income\n",
    "\n",
    "--Prediction list: HighBP, HighChol, Diabetes, target"
   ]
  },
  {
   "cell_type": "code",
   "execution_count": 3,
   "metadata": {},
   "outputs": [],
   "source": [
    "#Choose features and prediction and Drop unwanted data\n",
    "def fea_select(train_data, prediction):\n",
    "    Xtrain = train_data.drop(['target','HighBP', 'HighChol', 'Diabetes','PatientID'], axis = 'columns')\n",
    "    Ytrain = train_data[prediction]\n",
    "    return Xtrain, Ytrain"
   ]
  },
  {
   "cell_type": "code",
   "execution_count": 4,
   "metadata": {},
   "outputs": [],
   "source": [
    "def TrainTestSplit(X, Y):\n",
    "    #write function here\n",
    "    Xtrain, Xtest, ytrain, ytest = train_test_split(X, Y, test_size =0.25, random_state=42, stratify =Y)\n",
    "    return Xtrain, Xtest, ytrain, ytest"
   ]
  },
  {
   "cell_type": "markdown",
   "metadata": {},
   "source": [
    "## Separate Data"
   ]
  },
  {
   "cell_type": "code",
   "execution_count": 6,
   "metadata": {},
   "outputs": [],
   "source": [
    "#Drop unuseful feature and select what to predict\n",
    "train_data, test_data = read_data()\n",
    "X_HB, Y_HB = fea_select(train_data,'HighBP')\n",
    "X_HD, Y_HD = fea_select(train_data,'target')\n",
    "X_HC, Y_HC = fea_select(train_data,'HighChol')\n",
    "X_D, Y_D = fea_select(train_data,'Diabetes')"
   ]
  },
  {
   "cell_type": "markdown",
   "metadata": {},
   "source": [
    "## E. Main Code: Application 2 - E-Doctor"
   ]
  },
  {
   "cell_type": "code",
   "execution_count": 7,
   "metadata": {},
   "outputs": [
    {
     "name": "stderr",
     "output_type": "stream",
     "text": [
      "C:\\Users\\JEFF LEE\\anaconda3\\lib\\site-packages\\xgboost\\sklearn.py:1224: UserWarning: The use of label encoder in XGBClassifier is deprecated and will be removed in a future release. To remove this warning, do the following: 1) Pass option use_label_encoder=False when constructing XGBClassifier object; and 2) Encode your labels (y) as integers starting with 0, i.e. 0, 1, 2, ..., [num_class - 1].\n",
      "  warnings.warn(label_encoder_deprecation_msg, UserWarning)\n"
     ]
    },
    {
     "name": "stdout",
     "output_type": "stream",
     "text": [
      "[17:46:15] WARNING: C:/Users/Administrator/workspace/xgboost-win64_release_1.5.1/src/learner.cc:1115: Starting in XGBoost 1.3.0, the default evaluation metric used with the objective 'binary:logistic' was changed from 'error' to 'logloss'. Explicitly set eval_metric if you'd like to restore the old behavior.\n",
      "[17:46:19] WARNING: C:/Users/Administrator/workspace/xgboost-win64_release_1.5.1/src/learner.cc:1115: Starting in XGBoost 1.3.0, the default evaluation metric used with the objective 'binary:logistic' was changed from 'error' to 'logloss'. Explicitly set eval_metric if you'd like to restore the old behavior.\n",
      "[17:46:23] WARNING: C:/Users/Administrator/workspace/xgboost-win64_release_1.5.1/src/learner.cc:1115: Starting in XGBoost 1.3.0, the default evaluation metric used with the objective 'binary:logistic' was changed from 'error' to 'logloss'. Explicitly set eval_metric if you'd like to restore the old behavior.\n",
      "[17:46:26] WARNING: C:/Users/Administrator/workspace/xgboost-win64_release_1.5.1/src/learner.cc:576: \n",
      "Parameters: { \"scale_pos_weight\" } might not be used.\n",
      "\n",
      "  This could be a false alarm, with some parameters getting used by language bindings but\n",
      "  then being mistakenly passed down to XGBoost core, or some parameter actually being used\n",
      "  but getting flagged wrongly here. Please open an issue if you find any such cases.\n",
      "\n",
      "\n",
      "[17:46:27] WARNING: C:/Users/Administrator/workspace/xgboost-win64_release_1.5.1/src/learner.cc:1115: Starting in XGBoost 1.3.0, the default evaluation metric used with the objective 'multi:softprob' was changed from 'merror' to 'mlogloss'. Explicitly set eval_metric if you'd like to restore the old behavior.\n"
     ]
    }
   ],
   "source": [
    "#Splite data\n",
    "train_data, test_data = read_data()\n",
    "X_HB, Y_HB = fea_select(train_data,'HighBP')\n",
    "X_HD, Y_HD = fea_select(train_data,'target')\n",
    "X_HC, Y_HC = fea_select(train_data,'HighChol')\n",
    "X_D, Y_D = fea_select(train_data,'Diabetes')\n",
    "\n",
    "#Apply XGB model\n",
    "XGB = XGBClassifier(max_depth=3, learning_rate=0.1, n_estimators=100, verbosity=1, objective='binary:logistic', \n",
    "                    booster='gbtree', n_jobs=2, gamma=0.001,subsample=1,colsample_bytree=1, colsample_bylevel=1,             # Subsample ratio of columns when constructing each level. 0.33 is similar to random forest.\n",
    "                    colsample_bynode=1,reg_alpha=1,reg_lambda=0, scale_pos_weight=1, base_score=0.5, random_state=20201107,        # Seed\n",
    "                   )\n",
    "#XGB models\n",
    "HB_model = XGB.fit(X_HB, Y_HB)\n",
    "HD_model = XGB.fit(X_HD, Y_HD)\n",
    "HC_model = XGB.fit(X_HC, Y_HC)\n",
    "D_model = XGB.fit(X_D, Y_D)"
   ]
  },
  {
   "cell_type": "code",
   "execution_count": 8,
   "metadata": {},
   "outputs": [],
   "source": [
    "def patient():\n",
    "    #Patient's self-essement\n",
    "    name = input('Enter your name:')\n",
    "    Age = int(input('Enter your age(Enter int range from 1 to 100):'))//99*13\n",
    "    PhysActivity = int(input('How many days of physical асtіvіtу during the past 30 days(Enter int range from 0 to 30):'))\n",
    "    Fruits = int(input('Have you eat fruit everyday?(0: no, 1: yes):'))\n",
    "    Veggies = int(input('Have you eat vegetables everyday?(0: no, 1: yes):'))\n",
    "    Income = int(input('Rate your аnnuаl household income?(Enter int range from 1 to 8):'))\n",
    "    Smoker = int(input('Are you a Smoker who smoked аt least 100 сіgаrеttеѕ( 0: no, 1: yes):'))\n",
    "    #Pull Out Patience medical record\n",
    "    sample = random.randint(0, len(test_data))\n",
    "    med_rec = test_data[sample: sample + 1].copy(deep=True)\n",
    "    med_rec = med_rec.drop(['HighBP','HighChol', 'CholCheck','Diabetes', 'PatientID'], axis = 'columns')\n",
    "    med_rec = med_rec.reset_index()\n",
    "    #Joint all data\n",
    "    med_rec.loc[0, 'Age'] = Age\n",
    "    med_rec.loc[0, 'PhysActivity'] = PhysActivity\n",
    "    med_rec.loc[0, 'Fruits'] = Fruits\n",
    "    med_rec.loc[0, 'Veggies'] = Veggies\n",
    "    med_rec.loc[0, 'Income'] = Income\n",
    "    med_rec.loc[0, 'Smoker'] = Smoker\n",
    "    return name, med_rec"
   ]
  },
  {
   "cell_type": "code",
   "execution_count": 9,
   "metadata": {},
   "outputs": [],
   "source": [
    "#Asking Doctor\n",
    "def e_doc(name,info):\n",
    "    Result1  = HB_model.predict(info)\n",
    "    Result2  = HD_model.predict(info)\n",
    "    Result3  = HC_model.predict(info)\n",
    "    Result4  = D_model.predict(info)\n",
    "    if Result1 == 1: \n",
    "        print(name, 'May have High Blood Pressure!')\n",
    "    if Result2 == 1: \n",
    "        print(name, 'May have Heart Disease!')\n",
    "    if Result3 == 1: \n",
    "        print(name, 'May have Blооd Cholesterol!')\n",
    "    if Result3 == 1: \n",
    "        print(name, 'May have Diabete!')\n",
    "        \n",
    "    return Result1 | Result2 | Result3 | Result4"
   ]
  },
  {
   "cell_type": "code",
   "execution_count": 10,
   "metadata": {},
   "outputs": [
    {
     "name": "stdout",
     "output_type": "stream",
     "text": [
      "Enter your name:Amy\n",
      "Enter your age(Enter int range from 1 to 100):98\n",
      "How many days of physical асtіvіtу during the past 30 days(Enter int range from 0 to 30):20\n",
      "Have you eat fruit everyday?(0: no, 1: yes):1\n",
      "Have you eat vegetables everyday?(0: no, 1: yes):1\n",
      "Rate your аnnuаl household income?(Enter int range from 1 to 8):1\n",
      "Are you a Smoker who smoked аt least 100 сіgаrеttеѕ( 0: no, 1: yes):1\n"
     ]
    },
    {
     "data": {
      "text/html": [
       "<div>\n",
       "<style scoped>\n",
       "    .dataframe tbody tr th:only-of-type {\n",
       "        vertical-align: middle;\n",
       "    }\n",
       "\n",
       "    .dataframe tbody tr th {\n",
       "        vertical-align: top;\n",
       "    }\n",
       "\n",
       "    .dataframe thead th {\n",
       "        text-align: right;\n",
       "    }\n",
       "</style>\n",
       "<table border=\"1\" class=\"dataframe\">\n",
       "  <thead>\n",
       "    <tr style=\"text-align: right;\">\n",
       "      <th></th>\n",
       "      <th>index</th>\n",
       "      <th>BMI</th>\n",
       "      <th>Smoker</th>\n",
       "      <th>Stroke</th>\n",
       "      <th>PhysActivity</th>\n",
       "      <th>Fruits</th>\n",
       "      <th>Veggies</th>\n",
       "      <th>HvyAlcoholConsump</th>\n",
       "      <th>AnyHealthcare</th>\n",
       "      <th>NoDocbcCost</th>\n",
       "      <th>GenHlth</th>\n",
       "      <th>MentHlth</th>\n",
       "      <th>PhysHlth</th>\n",
       "      <th>DiffWalk</th>\n",
       "      <th>Sex</th>\n",
       "      <th>Age</th>\n",
       "      <th>Education</th>\n",
       "      <th>Income</th>\n",
       "    </tr>\n",
       "  </thead>\n",
       "  <tbody>\n",
       "    <tr>\n",
       "      <th>0</th>\n",
       "      <td>22894</td>\n",
       "      <td>29</td>\n",
       "      <td>1</td>\n",
       "      <td>0</td>\n",
       "      <td>20</td>\n",
       "      <td>1</td>\n",
       "      <td>1</td>\n",
       "      <td>0</td>\n",
       "      <td>1</td>\n",
       "      <td>0</td>\n",
       "      <td>3</td>\n",
       "      <td>5</td>\n",
       "      <td>0</td>\n",
       "      <td>0</td>\n",
       "      <td>1</td>\n",
       "      <td>0</td>\n",
       "      <td>6</td>\n",
       "      <td>1</td>\n",
       "    </tr>\n",
       "  </tbody>\n",
       "</table>\n",
       "</div>"
      ],
      "text/plain": [
       "   index  BMI  Smoker  Stroke  PhysActivity  Fruits  Veggies  \\\n",
       "0  22894   29       1       0            20       1        1   \n",
       "\n",
       "   HvyAlcoholConsump  AnyHealthcare  NoDocbcCost  GenHlth  MentHlth  PhysHlth  \\\n",
       "0                  0              1            0        3         5         0   \n",
       "\n",
       "   DiffWalk  Sex  Age  Education  Income  \n",
       "0         0    1    0          6       1  "
      ]
     },
     "metadata": {},
     "output_type": "display_data"
    },
    {
     "name": "stdout",
     "output_type": "stream",
     "text": [
      "Amy is very healthy!\n"
     ]
    },
    {
     "data": {
      "image/png": "[encoded data removed]",
      "text/plain": [
       "<Figure size 432x288 with 1 Axes>"
      ]
     },
     "metadata": {
      "needs_background": "light"
     },
     "output_type": "display_data"
    }
   ],
   "source": [
    "name,med_rec = patient()\n",
    "if e_doc(name,med_rec) == 1:\n",
    "    print(name, 'should watch BMI!')\n",
    "else:\n",
    "    print(name, 'is very healthy!')\n",
    "    \n",
    "plot_importance(HB_model)\n",
    "plt.show()"
   ]
  }
 ],
 "metadata": {
  "kernelspec": {
   "display_name": "Python 3",
   "language": "python",
   "name": "python3"
  },
  "language_info": {
   "codemirror_mode": {
    "name": "ipython",
    "version": 3
   },
   "file_extension": ".py",
   "mimetype": "text/x-python",
   "name": "python",
   "nbconvert_exporter": "python",
   "pygments_lexer": "ipython3",
   "version": "3.7.6"
  }
 },
 "nbformat": 4,
 "nbformat_minor": 4
}
